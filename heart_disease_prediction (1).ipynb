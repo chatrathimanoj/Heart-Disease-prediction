{
  "cells": [
    {
      "cell_type": "code",
      "execution_count": null,
      "metadata": {
        "colab": {
          "base_uri": "https://localhost:8080/"
        },
        "id": "ba3d2964",
        "outputId": "7f5b1900-7e63-475d-8dd4-e666927b1013"
      },
      "outputs": [
        {
          "output_type": "stream",
          "name": "stdout",
          "text": [
            "['.config', 'sample_data']\n"
          ]
        }
      ],
      "source": [
        "import numpy as np\n",
        "import pandas as pd\n",
        "import matplotlib.pyplot as plt\n",
        "import seaborn as sns\n",
        "\n",
        "%matplotlib inline\n",
        "\n",
        "import os\n",
        "print(os.listdir())\n",
        "\n",
        "import warnings\n",
        "warnings.filterwarnings('ignore')"
      ],
      "id": "ba3d2964"
    },
    {
      "cell_type": "code",
      "execution_count": null,
      "metadata": {
        "id": "31b35998",
        "colab": {
          "base_uri": "https://localhost:8080/",
          "height": 328
        },
        "outputId": "63f22e90-309d-40d1-8868-32d951b7ac67"
      },
      "outputs": [
        {
          "output_type": "error",
          "ename": "FileNotFoundError",
          "evalue": "ignored",
          "traceback": [
            "\u001b[0;31m---------------------------------------------------------------------------\u001b[0m",
            "\u001b[0;31mFileNotFoundError\u001b[0m                         Traceback (most recent call last)",
            "\u001b[0;32m<ipython-input-2-64997ce603c4>\u001b[0m in \u001b[0;36m<module>\u001b[0;34m()\u001b[0m\n\u001b[0;32m----> 1\u001b[0;31m \u001b[0mdataset\u001b[0m \u001b[0;34m=\u001b[0m \u001b[0mpd\u001b[0m\u001b[0;34m.\u001b[0m\u001b[0mread_csv\u001b[0m\u001b[0;34m(\u001b[0m\u001b[0;34m\"Heart.csv\"\u001b[0m\u001b[0;34m)\u001b[0m\u001b[0;34m\u001b[0m\u001b[0;34m\u001b[0m\u001b[0m\n\u001b[0m",
            "\u001b[0;32m/usr/local/lib/python3.7/dist-packages/pandas/util/_decorators.py\u001b[0m in \u001b[0;36mwrapper\u001b[0;34m(*args, **kwargs)\u001b[0m\n\u001b[1;32m    309\u001b[0m                     \u001b[0mstacklevel\u001b[0m\u001b[0;34m=\u001b[0m\u001b[0mstacklevel\u001b[0m\u001b[0;34m,\u001b[0m\u001b[0;34m\u001b[0m\u001b[0;34m\u001b[0m\u001b[0m\n\u001b[1;32m    310\u001b[0m                 )\n\u001b[0;32m--> 311\u001b[0;31m             \u001b[0;32mreturn\u001b[0m \u001b[0mfunc\u001b[0m\u001b[0;34m(\u001b[0m\u001b[0;34m*\u001b[0m\u001b[0margs\u001b[0m\u001b[0;34m,\u001b[0m \u001b[0;34m**\u001b[0m\u001b[0mkwargs\u001b[0m\u001b[0;34m)\u001b[0m\u001b[0;34m\u001b[0m\u001b[0;34m\u001b[0m\u001b[0m\n\u001b[0m\u001b[1;32m    312\u001b[0m \u001b[0;34m\u001b[0m\u001b[0m\n\u001b[1;32m    313\u001b[0m         \u001b[0;32mreturn\u001b[0m \u001b[0mwrapper\u001b[0m\u001b[0;34m\u001b[0m\u001b[0;34m\u001b[0m\u001b[0m\n",
            "\u001b[0;32m/usr/local/lib/python3.7/dist-packages/pandas/io/parsers/readers.py\u001b[0m in \u001b[0;36mread_csv\u001b[0;34m(filepath_or_buffer, sep, delimiter, header, names, index_col, usecols, squeeze, prefix, mangle_dupe_cols, dtype, engine, converters, true_values, false_values, skipinitialspace, skiprows, skipfooter, nrows, na_values, keep_default_na, na_filter, verbose, skip_blank_lines, parse_dates, infer_datetime_format, keep_date_col, date_parser, dayfirst, cache_dates, iterator, chunksize, compression, thousands, decimal, lineterminator, quotechar, quoting, doublequote, escapechar, comment, encoding, encoding_errors, dialect, error_bad_lines, warn_bad_lines, on_bad_lines, delim_whitespace, low_memory, memory_map, float_precision, storage_options)\u001b[0m\n\u001b[1;32m    584\u001b[0m     \u001b[0mkwds\u001b[0m\u001b[0;34m.\u001b[0m\u001b[0mupdate\u001b[0m\u001b[0;34m(\u001b[0m\u001b[0mkwds_defaults\u001b[0m\u001b[0;34m)\u001b[0m\u001b[0;34m\u001b[0m\u001b[0;34m\u001b[0m\u001b[0m\n\u001b[1;32m    585\u001b[0m \u001b[0;34m\u001b[0m\u001b[0m\n\u001b[0;32m--> 586\u001b[0;31m     \u001b[0;32mreturn\u001b[0m \u001b[0m_read\u001b[0m\u001b[0;34m(\u001b[0m\u001b[0mfilepath_or_buffer\u001b[0m\u001b[0;34m,\u001b[0m \u001b[0mkwds\u001b[0m\u001b[0;34m)\u001b[0m\u001b[0;34m\u001b[0m\u001b[0;34m\u001b[0m\u001b[0m\n\u001b[0m\u001b[1;32m    587\u001b[0m \u001b[0;34m\u001b[0m\u001b[0m\n\u001b[1;32m    588\u001b[0m \u001b[0;34m\u001b[0m\u001b[0m\n",
            "\u001b[0;32m/usr/local/lib/python3.7/dist-packages/pandas/io/parsers/readers.py\u001b[0m in \u001b[0;36m_read\u001b[0;34m(filepath_or_buffer, kwds)\u001b[0m\n\u001b[1;32m    480\u001b[0m \u001b[0;34m\u001b[0m\u001b[0m\n\u001b[1;32m    481\u001b[0m     \u001b[0;31m# Create the parser.\u001b[0m\u001b[0;34m\u001b[0m\u001b[0;34m\u001b[0m\u001b[0;34m\u001b[0m\u001b[0m\n\u001b[0;32m--> 482\u001b[0;31m     \u001b[0mparser\u001b[0m \u001b[0;34m=\u001b[0m \u001b[0mTextFileReader\u001b[0m\u001b[0;34m(\u001b[0m\u001b[0mfilepath_or_buffer\u001b[0m\u001b[0;34m,\u001b[0m \u001b[0;34m**\u001b[0m\u001b[0mkwds\u001b[0m\u001b[0;34m)\u001b[0m\u001b[0;34m\u001b[0m\u001b[0;34m\u001b[0m\u001b[0m\n\u001b[0m\u001b[1;32m    483\u001b[0m \u001b[0;34m\u001b[0m\u001b[0m\n\u001b[1;32m    484\u001b[0m     \u001b[0;32mif\u001b[0m \u001b[0mchunksize\u001b[0m \u001b[0;32mor\u001b[0m \u001b[0miterator\u001b[0m\u001b[0;34m:\u001b[0m\u001b[0;34m\u001b[0m\u001b[0;34m\u001b[0m\u001b[0m\n",
            "\u001b[0;32m/usr/local/lib/python3.7/dist-packages/pandas/io/parsers/readers.py\u001b[0m in \u001b[0;36m__init__\u001b[0;34m(self, f, engine, **kwds)\u001b[0m\n\u001b[1;32m    809\u001b[0m             \u001b[0mself\u001b[0m\u001b[0;34m.\u001b[0m\u001b[0moptions\u001b[0m\u001b[0;34m[\u001b[0m\u001b[0;34m\"has_index_names\"\u001b[0m\u001b[0;34m]\u001b[0m \u001b[0;34m=\u001b[0m \u001b[0mkwds\u001b[0m\u001b[0;34m[\u001b[0m\u001b[0;34m\"has_index_names\"\u001b[0m\u001b[0;34m]\u001b[0m\u001b[0;34m\u001b[0m\u001b[0;34m\u001b[0m\u001b[0m\n\u001b[1;32m    810\u001b[0m \u001b[0;34m\u001b[0m\u001b[0m\n\u001b[0;32m--> 811\u001b[0;31m         \u001b[0mself\u001b[0m\u001b[0;34m.\u001b[0m\u001b[0m_engine\u001b[0m \u001b[0;34m=\u001b[0m \u001b[0mself\u001b[0m\u001b[0;34m.\u001b[0m\u001b[0m_make_engine\u001b[0m\u001b[0;34m(\u001b[0m\u001b[0mself\u001b[0m\u001b[0;34m.\u001b[0m\u001b[0mengine\u001b[0m\u001b[0;34m)\u001b[0m\u001b[0;34m\u001b[0m\u001b[0;34m\u001b[0m\u001b[0m\n\u001b[0m\u001b[1;32m    812\u001b[0m \u001b[0;34m\u001b[0m\u001b[0m\n\u001b[1;32m    813\u001b[0m     \u001b[0;32mdef\u001b[0m \u001b[0mclose\u001b[0m\u001b[0;34m(\u001b[0m\u001b[0mself\u001b[0m\u001b[0;34m)\u001b[0m\u001b[0;34m:\u001b[0m\u001b[0;34m\u001b[0m\u001b[0;34m\u001b[0m\u001b[0m\n",
            "\u001b[0;32m/usr/local/lib/python3.7/dist-packages/pandas/io/parsers/readers.py\u001b[0m in \u001b[0;36m_make_engine\u001b[0;34m(self, engine)\u001b[0m\n\u001b[1;32m   1038\u001b[0m             )\n\u001b[1;32m   1039\u001b[0m         \u001b[0;31m# error: Too many arguments for \"ParserBase\"\u001b[0m\u001b[0;34m\u001b[0m\u001b[0;34m\u001b[0m\u001b[0;34m\u001b[0m\u001b[0m\n\u001b[0;32m-> 1040\u001b[0;31m         \u001b[0;32mreturn\u001b[0m \u001b[0mmapping\u001b[0m\u001b[0;34m[\u001b[0m\u001b[0mengine\u001b[0m\u001b[0;34m]\u001b[0m\u001b[0;34m(\u001b[0m\u001b[0mself\u001b[0m\u001b[0;34m.\u001b[0m\u001b[0mf\u001b[0m\u001b[0;34m,\u001b[0m \u001b[0;34m**\u001b[0m\u001b[0mself\u001b[0m\u001b[0;34m.\u001b[0m\u001b[0moptions\u001b[0m\u001b[0;34m)\u001b[0m  \u001b[0;31m# type: ignore[call-arg]\u001b[0m\u001b[0;34m\u001b[0m\u001b[0;34m\u001b[0m\u001b[0m\n\u001b[0m\u001b[1;32m   1041\u001b[0m \u001b[0;34m\u001b[0m\u001b[0m\n\u001b[1;32m   1042\u001b[0m     \u001b[0;32mdef\u001b[0m \u001b[0m_failover_to_python\u001b[0m\u001b[0;34m(\u001b[0m\u001b[0mself\u001b[0m\u001b[0;34m)\u001b[0m\u001b[0;34m:\u001b[0m\u001b[0;34m\u001b[0m\u001b[0;34m\u001b[0m\u001b[0m\n",
            "\u001b[0;32m/usr/local/lib/python3.7/dist-packages/pandas/io/parsers/c_parser_wrapper.py\u001b[0m in \u001b[0;36m__init__\u001b[0;34m(self, src, **kwds)\u001b[0m\n\u001b[1;32m     49\u001b[0m \u001b[0;34m\u001b[0m\u001b[0m\n\u001b[1;32m     50\u001b[0m         \u001b[0;31m# open handles\u001b[0m\u001b[0;34m\u001b[0m\u001b[0;34m\u001b[0m\u001b[0;34m\u001b[0m\u001b[0m\n\u001b[0;32m---> 51\u001b[0;31m         \u001b[0mself\u001b[0m\u001b[0;34m.\u001b[0m\u001b[0m_open_handles\u001b[0m\u001b[0;34m(\u001b[0m\u001b[0msrc\u001b[0m\u001b[0;34m,\u001b[0m \u001b[0mkwds\u001b[0m\u001b[0;34m)\u001b[0m\u001b[0;34m\u001b[0m\u001b[0;34m\u001b[0m\u001b[0m\n\u001b[0m\u001b[1;32m     52\u001b[0m         \u001b[0;32massert\u001b[0m \u001b[0mself\u001b[0m\u001b[0;34m.\u001b[0m\u001b[0mhandles\u001b[0m \u001b[0;32mis\u001b[0m \u001b[0;32mnot\u001b[0m \u001b[0;32mNone\u001b[0m\u001b[0;34m\u001b[0m\u001b[0;34m\u001b[0m\u001b[0m\n\u001b[1;32m     53\u001b[0m \u001b[0;34m\u001b[0m\u001b[0m\n",
            "\u001b[0;32m/usr/local/lib/python3.7/dist-packages/pandas/io/parsers/base_parser.py\u001b[0m in \u001b[0;36m_open_handles\u001b[0;34m(self, src, kwds)\u001b[0m\n\u001b[1;32m    227\u001b[0m             \u001b[0mmemory_map\u001b[0m\u001b[0;34m=\u001b[0m\u001b[0mkwds\u001b[0m\u001b[0;34m.\u001b[0m\u001b[0mget\u001b[0m\u001b[0;34m(\u001b[0m\u001b[0;34m\"memory_map\"\u001b[0m\u001b[0;34m,\u001b[0m \u001b[0;32mFalse\u001b[0m\u001b[0;34m)\u001b[0m\u001b[0;34m,\u001b[0m\u001b[0;34m\u001b[0m\u001b[0;34m\u001b[0m\u001b[0m\n\u001b[1;32m    228\u001b[0m             \u001b[0mstorage_options\u001b[0m\u001b[0;34m=\u001b[0m\u001b[0mkwds\u001b[0m\u001b[0;34m.\u001b[0m\u001b[0mget\u001b[0m\u001b[0;34m(\u001b[0m\u001b[0;34m\"storage_options\"\u001b[0m\u001b[0;34m,\u001b[0m \u001b[0;32mNone\u001b[0m\u001b[0;34m)\u001b[0m\u001b[0;34m,\u001b[0m\u001b[0;34m\u001b[0m\u001b[0;34m\u001b[0m\u001b[0m\n\u001b[0;32m--> 229\u001b[0;31m             \u001b[0merrors\u001b[0m\u001b[0;34m=\u001b[0m\u001b[0mkwds\u001b[0m\u001b[0;34m.\u001b[0m\u001b[0mget\u001b[0m\u001b[0;34m(\u001b[0m\u001b[0;34m\"encoding_errors\"\u001b[0m\u001b[0;34m,\u001b[0m \u001b[0;34m\"strict\"\u001b[0m\u001b[0;34m)\u001b[0m\u001b[0;34m,\u001b[0m\u001b[0;34m\u001b[0m\u001b[0;34m\u001b[0m\u001b[0m\n\u001b[0m\u001b[1;32m    230\u001b[0m         )\n\u001b[1;32m    231\u001b[0m \u001b[0;34m\u001b[0m\u001b[0m\n",
            "\u001b[0;32m/usr/local/lib/python3.7/dist-packages/pandas/io/common.py\u001b[0m in \u001b[0;36mget_handle\u001b[0;34m(path_or_buf, mode, encoding, compression, memory_map, is_text, errors, storage_options)\u001b[0m\n\u001b[1;32m    705\u001b[0m                 \u001b[0mencoding\u001b[0m\u001b[0;34m=\u001b[0m\u001b[0mioargs\u001b[0m\u001b[0;34m.\u001b[0m\u001b[0mencoding\u001b[0m\u001b[0;34m,\u001b[0m\u001b[0;34m\u001b[0m\u001b[0;34m\u001b[0m\u001b[0m\n\u001b[1;32m    706\u001b[0m                 \u001b[0merrors\u001b[0m\u001b[0;34m=\u001b[0m\u001b[0merrors\u001b[0m\u001b[0;34m,\u001b[0m\u001b[0;34m\u001b[0m\u001b[0;34m\u001b[0m\u001b[0m\n\u001b[0;32m--> 707\u001b[0;31m                 \u001b[0mnewline\u001b[0m\u001b[0;34m=\u001b[0m\u001b[0;34m\"\"\u001b[0m\u001b[0;34m,\u001b[0m\u001b[0;34m\u001b[0m\u001b[0;34m\u001b[0m\u001b[0m\n\u001b[0m\u001b[1;32m    708\u001b[0m             )\n\u001b[1;32m    709\u001b[0m         \u001b[0;32melse\u001b[0m\u001b[0;34m:\u001b[0m\u001b[0;34m\u001b[0m\u001b[0;34m\u001b[0m\u001b[0m\n",
            "\u001b[0;31mFileNotFoundError\u001b[0m: [Errno 2] No such file or directory: 'Heart.csv'"
          ]
        }
      ],
      "source": [
        "dataset = pd.read_csv(\"Heart.csv\")"
      ],
      "id": "31b35998"
    },
    {
      "cell_type": "code",
      "execution_count": null,
      "metadata": {
        "id": "130391fd"
      },
      "outputs": [],
      "source": [
        "type(dataset)\n"
      ],
      "id": "130391fd"
    },
    {
      "cell_type": "code",
      "execution_count": null,
      "metadata": {
        "id": "18275374"
      },
      "outputs": [],
      "source": [
        "dataset.shape\n"
      ],
      "id": "18275374"
    },
    {
      "cell_type": "code",
      "execution_count": null,
      "metadata": {
        "id": "80148efe"
      },
      "outputs": [],
      "source": [
        "dataset.head(5)\n"
      ],
      "id": "80148efe"
    },
    {
      "cell_type": "code",
      "execution_count": null,
      "metadata": {
        "id": "50477aea"
      },
      "outputs": [],
      "source": [
        "dataset.sample(5)\n"
      ],
      "id": "50477aea"
    },
    {
      "cell_type": "code",
      "execution_count": null,
      "metadata": {
        "id": "b56201a7"
      },
      "outputs": [],
      "source": [
        "dataset.describe()\n"
      ],
      "id": "b56201a7"
    },
    {
      "cell_type": "code",
      "execution_count": null,
      "metadata": {
        "id": "fa67edc1"
      },
      "outputs": [],
      "source": [
        "dataset.info()"
      ],
      "id": "fa67edc1"
    },
    {
      "cell_type": "code",
      "execution_count": null,
      "metadata": {
        "id": "d7120203"
      },
      "outputs": [],
      "source": [
        "info = [\"age\",\"1: male, 0: female\",\"chest pain type, 1: typical angina, 2: atypical angina, 3: non-anginal pain, 4: asymptomatic\",\"resting blood pressure\",\" serum cholestoral in mg/dl\",\"fasting blood sugar > 120 mg/dl\",\"resting electrocardiographic results (values 0,1,2)\",\" maximum heart rate achieved\",\"exercise induced angina\",\"oldpeak = ST depression induced by exercise relative to rest\",\"the slope of the peak exercise ST segment\",\"number of major vessels (0-3) colored by flourosopy\",\"thal: 3 = normal; 6 = fixed defect; 7 = reversable defect\"]\n",
        "\n",
        "\n",
        "\n",
        "for i in range(len(info)):\n",
        "  \n",
        "    print(dataset.columns[i]+\":\\t\\t\\t\"+info[i])"
      ],
      "id": "d7120203"
    },
    {
      "cell_type": "code",
      "execution_count": null,
      "metadata": {
        "id": "6a1d1470"
      },
      "outputs": [],
      "source": [
        "dataset[\"target\"].describe()\n"
      ],
      "id": "6a1d1470"
    },
    {
      "cell_type": "code",
      "execution_count": null,
      "metadata": {
        "id": "aa14b35a"
      },
      "outputs": [],
      "source": [
        "dataset[\"target\"].unique()\n"
      ],
      "id": "aa14b35a"
    },
    {
      "cell_type": "code",
      "execution_count": null,
      "metadata": {
        "id": "e59be592"
      },
      "outputs": [],
      "source": [
        "print(dataset.corr()[\"target\"].abs().sort_values(ascending=False))\n"
      ],
      "id": "e59be592"
    },
    {
      "cell_type": "code",
      "execution_count": null,
      "metadata": {
        "id": "23df51c0"
      },
      "outputs": [],
      "source": [
        "y = dataset[\"target\"]\n",
        "\n",
        "sns.countplot(y)\n",
        "\n",
        "\n",
        "target_temp = dataset.target.value_counts()\n",
        "\n",
        "print(target_temp)"
      ],
      "id": "23df51c0"
    },
    {
      "cell_type": "code",
      "execution_count": null,
      "metadata": {
        "id": "ad1a929e"
      },
      "outputs": [],
      "source": [
        "print(\"Percentage of patience without heart problems: \"+str(round(target_temp[0]*100/303,2)))\n",
        "print(\"Percentage of patience with heart problems: \"+str(round(target_temp[1]*100/303,2)))\n",
        "\n",
        "#Alternatively,\n",
        "# print(\"Percentage of patience with heart problems: \"+str(y.where(y==1).count()*100/303))\n",
        "# print(\"Percentage of patience with heart problems: \"+str(y.where(y==0).count()*100/303))\n",
        "\n",
        "# #Or,\n",
        "# countNoDisease = len(df[df.target == 0])\n",
        "# countHaveDisease = len(df[df.target == 1])"
      ],
      "id": "ad1a929e"
    },
    {
      "cell_type": "code",
      "execution_count": null,
      "metadata": {
        "id": "ff1cd21a"
      },
      "outputs": [],
      "source": [
        "dataset[\"sex\"].unique()"
      ],
      "id": "ff1cd21a"
    },
    {
      "cell_type": "code",
      "execution_count": null,
      "metadata": {
        "id": "15482bf6"
      },
      "outputs": [],
      "source": [
        "sns.barplot(dataset[\"sex\"],y)\n"
      ],
      "id": "15482bf6"
    },
    {
      "cell_type": "code",
      "execution_count": null,
      "metadata": {
        "id": "7da808f1"
      },
      "outputs": [],
      "source": [
        "dataset[\"cp\"].unique()"
      ],
      "id": "7da808f1"
    },
    {
      "cell_type": "code",
      "execution_count": null,
      "metadata": {
        "id": "a08d79e4"
      },
      "outputs": [],
      "source": [
        "sns.barplot(dataset[\"cp\"],y)\n"
      ],
      "id": "a08d79e4"
    },
    {
      "cell_type": "code",
      "execution_count": null,
      "metadata": {
        "id": "79bde144"
      },
      "outputs": [],
      "source": [
        "dataset[\"fbs\"].describe()"
      ],
      "id": "79bde144"
    },
    {
      "cell_type": "code",
      "execution_count": null,
      "metadata": {
        "id": "3727177f"
      },
      "outputs": [],
      "source": [
        "dataset[\"fbs\"].unique()"
      ],
      "id": "3727177f"
    },
    {
      "cell_type": "code",
      "execution_count": null,
      "metadata": {
        "id": "3f08b25a"
      },
      "outputs": [],
      "source": [
        "sns.barplot(dataset[\"fbs\"],y)"
      ],
      "id": "3f08b25a"
    },
    {
      "cell_type": "code",
      "execution_count": null,
      "metadata": {
        "id": "a8a19d21"
      },
      "outputs": [],
      "source": [
        "dataset[\"cp\"].unique()"
      ],
      "id": "a8a19d21"
    },
    {
      "cell_type": "code",
      "execution_count": null,
      "metadata": {
        "id": "9d21c7f9"
      },
      "outputs": [],
      "source": [
        "sns.barplot(dataset[\"cp\"],y)"
      ],
      "id": "9d21c7f9"
    },
    {
      "cell_type": "code",
      "execution_count": null,
      "metadata": {
        "id": "3ec92334"
      },
      "outputs": [],
      "source": [
        "dataset[\"fbs\"].describe()"
      ],
      "id": "3ec92334"
    },
    {
      "cell_type": "code",
      "execution_count": null,
      "metadata": {
        "id": "dbf77b80"
      },
      "outputs": [],
      "source": [
        "dataset[\"fbs\"].unique()\n"
      ],
      "id": "dbf77b80"
    },
    {
      "cell_type": "code",
      "execution_count": null,
      "metadata": {
        "id": "be0aeb19"
      },
      "outputs": [],
      "source": [
        "dataset[\"restecg\"].unique()\n",
        "\n"
      ],
      "id": "be0aeb19"
    },
    {
      "cell_type": "code",
      "execution_count": null,
      "metadata": {
        "id": "96963f70"
      },
      "outputs": [],
      "source": [
        "sns.barplot(dataset[\"restecg\"],y)"
      ],
      "id": "96963f70"
    },
    {
      "cell_type": "code",
      "execution_count": null,
      "metadata": {
        "id": "94bd89c1"
      },
      "outputs": [],
      "source": [
        "dataset[\"exang\"].unique()"
      ],
      "id": "94bd89c1"
    },
    {
      "cell_type": "code",
      "execution_count": null,
      "metadata": {
        "id": "4639a29c"
      },
      "outputs": [],
      "source": [
        "sns.barplot(dataset[\"exang\"],y)"
      ],
      "id": "4639a29c"
    },
    {
      "cell_type": "code",
      "execution_count": null,
      "metadata": {
        "id": "7b9ddd0f"
      },
      "outputs": [],
      "source": [
        "dataset[\"slope\"].unique()"
      ],
      "id": "7b9ddd0f"
    },
    {
      "cell_type": "code",
      "execution_count": null,
      "metadata": {
        "id": "12ef1202"
      },
      "outputs": [],
      "source": [
        "sns.barplot(dataset[\"slope\"],y)"
      ],
      "id": "12ef1202"
    },
    {
      "cell_type": "code",
      "execution_count": null,
      "metadata": {
        "id": "ea4b20f2"
      },
      "outputs": [],
      "source": [
        "dataset[\"ca\"].unique()"
      ],
      "id": "ea4b20f2"
    },
    {
      "cell_type": "code",
      "execution_count": null,
      "metadata": {
        "id": "73b4baf6"
      },
      "outputs": [],
      "source": [
        "sns.countplot(dataset[\"ca\"])"
      ],
      "id": "73b4baf6"
    },
    {
      "cell_type": "code",
      "execution_count": null,
      "metadata": {
        "id": "45e513be"
      },
      "outputs": [],
      "source": [
        "sns.barplot(dataset[\"ca\"],y)"
      ],
      "id": "45e513be"
    },
    {
      "cell_type": "code",
      "execution_count": null,
      "metadata": {
        "id": "4cfb3c98"
      },
      "outputs": [],
      "source": [
        "dataset[\"thal\"].unique()"
      ],
      "id": "4cfb3c98"
    },
    {
      "cell_type": "code",
      "execution_count": null,
      "metadata": {
        "id": "d511f0aa"
      },
      "outputs": [],
      "source": [
        "sns.barplot(dataset[\"thal\"],y)"
      ],
      "id": "d511f0aa"
    },
    {
      "cell_type": "code",
      "execution_count": null,
      "metadata": {
        "id": "72f4df33"
      },
      "outputs": [],
      "source": [
        "sns.distplot(dataset[\"thal\"])"
      ],
      "id": "72f4df33"
    },
    {
      "cell_type": "code",
      "execution_count": null,
      "metadata": {
        "id": "20d6891f"
      },
      "outputs": [],
      "source": [
        "from sklearn.model_selection import train_test_split\n",
        "\n",
        "predictors = dataset.drop(\"target\",axis=1)\n",
        "target = dataset[\"target\"]\n",
        "\n",
        "X_train,X_test,Y_train,Y_test = train_test_split(predictors,target,test_size=0.20,random_state=0)"
      ],
      "id": "20d6891f"
    },
    {
      "cell_type": "code",
      "execution_count": null,
      "metadata": {
        "id": "22c4e5dd"
      },
      "outputs": [],
      "source": [
        "X_train.shape"
      ],
      "id": "22c4e5dd"
    },
    {
      "cell_type": "code",
      "execution_count": null,
      "metadata": {
        "id": "c5edcb8f"
      },
      "outputs": [],
      "source": [
        "X_test.shape"
      ],
      "id": "c5edcb8f"
    },
    {
      "cell_type": "code",
      "execution_count": null,
      "metadata": {
        "id": "e8a9081c"
      },
      "outputs": [],
      "source": [
        "Y_train.shape\n"
      ],
      "id": "e8a9081c"
    },
    {
      "cell_type": "code",
      "execution_count": null,
      "metadata": {
        "id": "18081fb7"
      },
      "outputs": [],
      "source": [
        "Y_test.shape"
      ],
      "id": "18081fb7"
    },
    {
      "cell_type": "code",
      "execution_count": null,
      "metadata": {
        "id": "8ebab036"
      },
      "outputs": [],
      "source": [
        "from sklearn.metrics import accuracy_score"
      ],
      "id": "8ebab036"
    },
    {
      "cell_type": "code",
      "execution_count": null,
      "metadata": {
        "id": "5e585dc1"
      },
      "outputs": [],
      "source": [
        "from sklearn.linear_model import LogisticRegression\n",
        "\n",
        "lr = LogisticRegression()\n",
        "\n",
        "lr.fit(X_train,Y_train)\n",
        "\n",
        "Y_pred_lr = lr.predict(X_test)"
      ],
      "id": "5e585dc1"
    },
    {
      "cell_type": "code",
      "execution_count": null,
      "metadata": {
        "id": "876c6f1f"
      },
      "outputs": [],
      "source": [
        "Y_pred_lr.shape"
      ],
      "id": "876c6f1f"
    },
    {
      "cell_type": "code",
      "execution_count": null,
      "metadata": {
        "id": "e6c49417"
      },
      "outputs": [],
      "source": [
        "score_lr = round(accuracy_score(Y_pred_lr,Y_test)*100,2)\n",
        "\n",
        "print(\"The accuracy score achieved using Logistic Regression is: \"+str(score_lr)+\" %\")"
      ],
      "id": "e6c49417"
    },
    {
      "cell_type": "code",
      "execution_count": null,
      "metadata": {
        "id": "0d2582d3"
      },
      "outputs": [],
      "source": [
        "from sklearn.naive_bayes import GaussianNB\n",
        "\n",
        "nb = GaussianNB()\n",
        "\n",
        "nb.fit(X_train,Y_train)\n",
        "\n",
        "Y_pred_nb = nb.predict(X_test)"
      ],
      "id": "0d2582d3"
    },
    {
      "cell_type": "code",
      "execution_count": null,
      "metadata": {
        "id": "622cc7c8"
      },
      "outputs": [],
      "source": [
        "Y_pred_nb.shape"
      ],
      "id": "622cc7c8"
    },
    {
      "cell_type": "code",
      "execution_count": null,
      "metadata": {
        "id": "e568c405"
      },
      "outputs": [],
      "source": [
        "score_nb = round(accuracy_score(Y_pred_nb,Y_test)*100,2)\n",
        "\n",
        "print(\"The accuracy score achieved using Naive Bayes is: \"+str(score_nb)+\" %\")"
      ],
      "id": "e568c405"
    },
    {
      "cell_type": "code",
      "execution_count": null,
      "metadata": {
        "id": "7a37ddb0"
      },
      "outputs": [],
      "source": [
        "from sklearn import svm\n",
        "\n",
        "sv = svm.SVC(kernel='linear')\n",
        "\n",
        "sv.fit(X_train, Y_train)\n",
        "\n",
        "Y_pred_svm = sv.predict(X_test)"
      ],
      "id": "7a37ddb0"
    },
    {
      "cell_type": "code",
      "execution_count": null,
      "metadata": {
        "id": "d6bd7656"
      },
      "outputs": [],
      "source": [
        "Y_pred_svm.shape"
      ],
      "id": "d6bd7656"
    },
    {
      "cell_type": "code",
      "execution_count": null,
      "metadata": {
        "id": "3d5f68f9"
      },
      "outputs": [],
      "source": [
        "score_svm = round(accuracy_score(Y_pred_svm,Y_test)*100,2)\n",
        "\n",
        "print(\"The accuracy score achieved using Linear SVM is: \"+str(score_svm)+\" %\")"
      ],
      "id": "3d5f68f9"
    },
    {
      "cell_type": "code",
      "execution_count": null,
      "metadata": {
        "id": "b9bad252"
      },
      "outputs": [],
      "source": [
        "from sklearn.neighbors import KNeighborsClassifier\n",
        "\n",
        "knn = KNeighborsClassifier(n_neighbors=7)\n",
        "knn.fit(X_train,Y_train)\n",
        "Y_pred_knn=knn.predict(X_test)"
      ],
      "id": "b9bad252"
    },
    {
      "cell_type": "code",
      "execution_count": null,
      "metadata": {
        "id": "82d09f89"
      },
      "outputs": [],
      "source": [
        "Y_pred_knn.shape"
      ],
      "id": "82d09f89"
    },
    {
      "cell_type": "code",
      "execution_count": null,
      "metadata": {
        "id": "8aae7024"
      },
      "outputs": [],
      "source": [
        "\n",
        "score_knn = round(accuracy_score(Y_pred_knn,Y_test)*100,2)\n",
        "\n",
        "print(\"The accuracy score achieved using KNN is: \"+str(score_knn)+\" %\")"
      ],
      "id": "8aae7024"
    },
    {
      "cell_type": "code",
      "execution_count": null,
      "metadata": {
        "id": "45c860ab"
      },
      "outputs": [],
      "source": [
        "from sklearn.tree import DecisionTreeClassifier\n",
        "\n",
        "max_accuracy = 0\n",
        "\n",
        "\n",
        "for x in range(200):\n",
        "    dt = DecisionTreeClassifier(random_state=x)\n",
        "    dt.fit(X_train,Y_train)\n",
        "    Y_pred_dt = dt.predict(X_test)\n",
        "    current_accuracy = round(accuracy_score(Y_pred_dt,Y_test)*100,2)\n",
        "    if(current_accuracy>max_accuracy):\n",
        "        max_accuracy = current_accuracy\n",
        "        best_x = x\n",
        "        \n",
        "#print(max_accuracy)\n",
        "#print(best_x)\n",
        "\n",
        "\n",
        "dt = DecisionTreeClassifier(random_state=best_x)\n",
        "dt.fit(X_train,Y_train)\n",
        "Y_pred_dt = dt.predict(X_test)"
      ],
      "id": "45c860ab"
    },
    {
      "cell_type": "code",
      "execution_count": null,
      "metadata": {
        "id": "02e43233"
      },
      "outputs": [],
      "source": [
        "print(Y_pred_dt.shape)"
      ],
      "id": "02e43233"
    },
    {
      "cell_type": "code",
      "execution_count": null,
      "metadata": {
        "id": "4ebb0254"
      },
      "outputs": [],
      "source": [
        "score_dt = round(accuracy_score(Y_pred_dt,Y_test)*100,2)\n",
        "\n",
        "print(\"The accuracy score achieved using Decision Tree is: \"+str(score_dt)+\" %\")\n"
      ],
      "id": "4ebb0254"
    },
    {
      "cell_type": "code",
      "execution_count": null,
      "metadata": {
        "id": "3d9ca6fd"
      },
      "outputs": [],
      "source": [
        "from sklearn.ensemble import RandomForestClassifier\n",
        "\n",
        "max_accuracy = 0\n",
        "\n",
        "\n",
        "for x in range(2000):\n",
        "    rf = RandomForestClassifier(random_state=x)\n",
        "    rf.fit(X_train,Y_train)\n",
        "    Y_pred_rf = rf.predict(X_test)\n",
        "    current_accuracy = round(accuracy_score(Y_pred_rf,Y_test)*100,2)\n",
        "    if(current_accuracy>max_accuracy):\n",
        "        max_accuracy = current_accuracy\n",
        "        best_x = x\n",
        "        \n",
        "#print(max_accuracy)\n",
        "#print(best_x)\n",
        "\n",
        "rf = RandomForestClassifier(random_state=best_x)\n",
        "rf.fit(X_train,Y_train)\n",
        "Y_pred_rf = rf.predict(X_test)\n"
      ],
      "id": "3d9ca6fd"
    },
    {
      "cell_type": "code",
      "execution_count": null,
      "metadata": {
        "id": "03fde65f"
      },
      "outputs": [],
      "source": [
        "Y_pred_rf.shape"
      ],
      "id": "03fde65f"
    },
    {
      "cell_type": "code",
      "execution_count": null,
      "metadata": {
        "id": "b5bc9198"
      },
      "outputs": [],
      "source": [
        "score_rf = round(accuracy_score(Y_pred_rf,Y_test)*100,2)\n",
        "\n",
        "print(\"The accuracy score achieved using Decision Tree is: \"+str(score_rf)+\" %\")"
      ],
      "id": "b5bc9198"
    },
    {
      "cell_type": "code",
      "execution_count": null,
      "metadata": {
        "id": "2c804027"
      },
      "outputs": [],
      "source": [
        "import xgboost as xgb\n",
        "\n",
        "xgb_model = xgb.XGBClassifier(objective=\"binary:logistic\", random_state=42)\n",
        "xgb_model.fit(X_train, Y_train)\n",
        "\n",
        "Y_pred_xgb = xgb_model.predict(X_test)"
      ],
      "id": "2c804027"
    },
    {
      "cell_type": "code",
      "execution_count": null,
      "metadata": {
        "id": "f0045ec5"
      },
      "outputs": [],
      "source": [
        "Y_pred_xgb.shape"
      ],
      "id": "f0045ec5"
    },
    {
      "cell_type": "code",
      "execution_count": null,
      "metadata": {
        "id": "f0a5cc42"
      },
      "outputs": [],
      "source": [
        "score_xgb = round(accuracy_score(Y_pred_xgb,Y_test)*100,2)\n",
        "\n",
        "print(\"The accuracy score achieved using XGBoost is: \"+str(score_xgb)+\" %\")"
      ],
      "id": "f0a5cc42"
    },
    {
      "cell_type": "code",
      "execution_count": null,
      "metadata": {
        "id": "87eccbbe"
      },
      "outputs": [],
      "source": [
        "import tensorflow as tf\n",
        "from tensorflow.keras.models import Sequential\n",
        "from keras.layers import Dense"
      ],
      "id": "87eccbbe"
    },
    {
      "cell_type": "code",
      "execution_count": null,
      "metadata": {
        "id": "d69f7929"
      },
      "outputs": [],
      "source": [
        "# https://stats.stackexchange.com/a/136542 helped a lot in avoiding overfitting\n",
        "\n",
        "model = Sequential()\n",
        "model.add(Dense(11,activation='relu',input_dim=13))\n",
        "model.add(Dense(1,activation='sigmoid'))\n",
        "\n",
        "model.compile(loss='binary_crossentropy',optimizer='adam',metrics=['accuracy'])"
      ],
      "id": "d69f7929"
    },
    {
      "cell_type": "code",
      "execution_count": null,
      "metadata": {
        "id": "2036381e"
      },
      "outputs": [],
      "source": [
        "model.fit(X_train,Y_train,epochs=300)\n"
      ],
      "id": "2036381e"
    },
    {
      "cell_type": "code",
      "execution_count": null,
      "metadata": {
        "id": "8a3d7365"
      },
      "outputs": [],
      "source": [
        "Y_pred_nn = model.predict(X_test)"
      ],
      "id": "8a3d7365"
    },
    {
      "cell_type": "code",
      "execution_count": null,
      "metadata": {
        "id": "f0f9e1fa"
      },
      "outputs": [],
      "source": [
        "Y_pred_nn.shape"
      ],
      "id": "f0f9e1fa"
    },
    {
      "cell_type": "code",
      "execution_count": null,
      "metadata": {
        "id": "f324df8b"
      },
      "outputs": [],
      "source": [
        "rounded = [round(x[0]) for x in Y_pred_nn]\n",
        "\n",
        "Y_pred_nn = rounded"
      ],
      "id": "f324df8b"
    },
    {
      "cell_type": "code",
      "execution_count": null,
      "metadata": {
        "id": "e0a8bce6"
      },
      "outputs": [],
      "source": [
        "score_nn = round(accuracy_score(Y_pred_nn,Y_test)*100,2)\n",
        "\n",
        "print(\"The accuracy score achieved using Neural Network is: \"+str(score_nn)+\" %\")\n",
        "\n",
        "#Note: Accuracy of 85% can be achieved on the test set, by setting epochs=2000, and number of nodes = 11."
      ],
      "id": "e0a8bce6"
    },
    {
      "cell_type": "code",
      "execution_count": null,
      "metadata": {
        "id": "19ef7e9e"
      },
      "outputs": [],
      "source": [
        "scores = [score_lr,score_nb,score_svm,score_knn,score_dt,score_rf,score_xgb,score_nn]\n",
        "algorithms = [\"Logistic Regression\",\"Naive Bayes\",\"Support Vector Machine\",\"K-Nearest Neighbors\",\"Decision Tree\",\"Random Forest\",\"XGBoost\",\"Neural Network\"]    \n",
        "\n",
        "for i in range(len(algorithms)):\n",
        "    print(\"The accuracy score achieved using \"+algorithms[i]+\" is: \"+str(scores[i])+\" %\")"
      ],
      "id": "19ef7e9e"
    },
    {
      "cell_type": "code",
      "execution_count": null,
      "metadata": {
        "id": "afab7021"
      },
      "outputs": [],
      "source": [
        "sns.set(rc={'figure.figsize':(15,8)})\n",
        "plt.xlabel(\"Algorithms\")\n",
        "plt.ylabel(\"Accuracy score\")\n",
        "\n",
        "sns.barplot(algorithms,scores)"
      ],
      "id": "afab7021"
    },
    {
      "cell_type": "code",
      "execution_count": null,
      "metadata": {
        "id": "632329a6"
      },
      "outputs": [],
      "source": [
        "input_data = (62,0,0,140,268,0,0,160,0,3.6,0,2,2)\n",
        "\n",
        "# change the input data to a numpy array\n",
        "input_data_as_numpy_array= np.asarray(input_data)\n",
        "\n",
        "# reshape the numpy array as we are predicting for only on instance\n",
        "input_data_reshaped = input_data_as_numpy_array.reshape(1,-1)\n",
        "\n",
        "prediction = model.predict(input_data_reshaped)\n",
        "print(prediction)\n",
        "\n",
        "if (prediction[0]== 0):\n",
        "  print('The Person does not have a Heart Disease')\n",
        "else:\n",
        "  print('The Person has Heart Disease')"
      ],
      "id": "632329a6"
    },
    {
      "cell_type": "code",
      "execution_count": null,
      "metadata": {
        "id": "1d068486"
      },
      "outputs": [],
      "source": [
        ""
      ],
      "id": "1d068486"
    }
  ],
  "metadata": {
    "colab": {
      "name": "heart disease prediction.ipynb",
      "provenance": []
    },
    "kernelspec": {
      "display_name": "Python 3 (ipykernel)",
      "language": "python",
      "name": "python3"
    },
    "language_info": {
      "codemirror_mode": {
        "name": "ipython",
        "version": 3
      },
      "file_extension": ".py",
      "mimetype": "text/x-python",
      "name": "python",
      "nbconvert_exporter": "python",
      "pygments_lexer": "ipython3",
      "version": "3.9.7"
    }
  },
  "nbformat": 4,
  "nbformat_minor": 5
}